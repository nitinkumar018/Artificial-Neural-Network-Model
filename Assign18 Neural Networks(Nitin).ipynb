{
 "cells": [
  {
   "cell_type": "markdown",
   "id": "93ba2cdb",
   "metadata": {},
   "source": [
    "# 1. Data Exploration and Preprocessing"
   ]
  },
  {
   "cell_type": "code",
   "execution_count": 1,
   "id": "c5210369",
   "metadata": {},
   "outputs": [],
   "source": [
    "#import numpy as np\n",
    "#data1 = np.loadtxt(r\"Alphabets_data.csv\", delimiter= \",\")  # won't work as it has categorical column"
   ]
  },
  {
   "cell_type": "code",
   "execution_count": 2,
   "id": "cebe630a",
   "metadata": {},
   "outputs": [],
   "source": [
    "import pandas as pd"
   ]
  },
  {
   "cell_type": "code",
   "execution_count": 3,
   "id": "5853f611",
   "metadata": {},
   "outputs": [],
   "source": [
    "data = pd.read_csv(r\"Alphabets_data.csv\", header=0) # load dataset "
   ]
  },
  {
   "cell_type": "code",
   "execution_count": 4,
   "id": "26cc9daf",
   "metadata": {},
   "outputs": [
    {
     "data": {
      "text/html": [
       "<div>\n",
       "<style scoped>\n",
       "    .dataframe tbody tr th:only-of-type {\n",
       "        vertical-align: middle;\n",
       "    }\n",
       "\n",
       "    .dataframe tbody tr th {\n",
       "        vertical-align: top;\n",
       "    }\n",
       "\n",
       "    .dataframe thead th {\n",
       "        text-align: right;\n",
       "    }\n",
       "</style>\n",
       "<table border=\"1\" class=\"dataframe\">\n",
       "  <thead>\n",
       "    <tr style=\"text-align: right;\">\n",
       "      <th></th>\n",
       "      <th>letter</th>\n",
       "      <th>xbox</th>\n",
       "      <th>ybox</th>\n",
       "      <th>width</th>\n",
       "      <th>height</th>\n",
       "      <th>onpix</th>\n",
       "      <th>xbar</th>\n",
       "      <th>ybar</th>\n",
       "      <th>x2bar</th>\n",
       "      <th>y2bar</th>\n",
       "      <th>xybar</th>\n",
       "      <th>x2ybar</th>\n",
       "      <th>xy2bar</th>\n",
       "      <th>xedge</th>\n",
       "      <th>xedgey</th>\n",
       "      <th>yedge</th>\n",
       "      <th>yedgex</th>\n",
       "    </tr>\n",
       "  </thead>\n",
       "  <tbody>\n",
       "    <tr>\n",
       "      <th>0</th>\n",
       "      <td>T</td>\n",
       "      <td>2</td>\n",
       "      <td>8</td>\n",
       "      <td>3</td>\n",
       "      <td>5</td>\n",
       "      <td>1</td>\n",
       "      <td>8</td>\n",
       "      <td>13</td>\n",
       "      <td>0</td>\n",
       "      <td>6</td>\n",
       "      <td>6</td>\n",
       "      <td>10</td>\n",
       "      <td>8</td>\n",
       "      <td>0</td>\n",
       "      <td>8</td>\n",
       "      <td>0</td>\n",
       "      <td>8</td>\n",
       "    </tr>\n",
       "    <tr>\n",
       "      <th>1</th>\n",
       "      <td>I</td>\n",
       "      <td>5</td>\n",
       "      <td>12</td>\n",
       "      <td>3</td>\n",
       "      <td>7</td>\n",
       "      <td>2</td>\n",
       "      <td>10</td>\n",
       "      <td>5</td>\n",
       "      <td>5</td>\n",
       "      <td>4</td>\n",
       "      <td>13</td>\n",
       "      <td>3</td>\n",
       "      <td>9</td>\n",
       "      <td>2</td>\n",
       "      <td>8</td>\n",
       "      <td>4</td>\n",
       "      <td>10</td>\n",
       "    </tr>\n",
       "    <tr>\n",
       "      <th>2</th>\n",
       "      <td>D</td>\n",
       "      <td>4</td>\n",
       "      <td>11</td>\n",
       "      <td>6</td>\n",
       "      <td>8</td>\n",
       "      <td>6</td>\n",
       "      <td>10</td>\n",
       "      <td>6</td>\n",
       "      <td>2</td>\n",
       "      <td>6</td>\n",
       "      <td>10</td>\n",
       "      <td>3</td>\n",
       "      <td>7</td>\n",
       "      <td>3</td>\n",
       "      <td>7</td>\n",
       "      <td>3</td>\n",
       "      <td>9</td>\n",
       "    </tr>\n",
       "    <tr>\n",
       "      <th>3</th>\n",
       "      <td>N</td>\n",
       "      <td>7</td>\n",
       "      <td>11</td>\n",
       "      <td>6</td>\n",
       "      <td>6</td>\n",
       "      <td>3</td>\n",
       "      <td>5</td>\n",
       "      <td>9</td>\n",
       "      <td>4</td>\n",
       "      <td>6</td>\n",
       "      <td>4</td>\n",
       "      <td>4</td>\n",
       "      <td>10</td>\n",
       "      <td>6</td>\n",
       "      <td>10</td>\n",
       "      <td>2</td>\n",
       "      <td>8</td>\n",
       "    </tr>\n",
       "    <tr>\n",
       "      <th>4</th>\n",
       "      <td>G</td>\n",
       "      <td>2</td>\n",
       "      <td>1</td>\n",
       "      <td>3</td>\n",
       "      <td>1</td>\n",
       "      <td>1</td>\n",
       "      <td>8</td>\n",
       "      <td>6</td>\n",
       "      <td>6</td>\n",
       "      <td>6</td>\n",
       "      <td>6</td>\n",
       "      <td>5</td>\n",
       "      <td>9</td>\n",
       "      <td>1</td>\n",
       "      <td>7</td>\n",
       "      <td>5</td>\n",
       "      <td>10</td>\n",
       "    </tr>\n",
       "  </tbody>\n",
       "</table>\n",
       "</div>"
      ],
      "text/plain": [
       "  letter  xbox  ybox  width  height  onpix  xbar  ybar  x2bar  y2bar  xybar  \\\n",
       "0      T     2     8      3       5      1     8    13      0      6      6   \n",
       "1      I     5    12      3       7      2    10     5      5      4     13   \n",
       "2      D     4    11      6       8      6    10     6      2      6     10   \n",
       "3      N     7    11      6       6      3     5     9      4      6      4   \n",
       "4      G     2     1      3       1      1     8     6      6      6      6   \n",
       "\n",
       "   x2ybar  xy2bar  xedge  xedgey  yedge  yedgex  \n",
       "0      10       8      0       8      0       8  \n",
       "1       3       9      2       8      4      10  \n",
       "2       3       7      3       7      3       9  \n",
       "3       4      10      6      10      2       8  \n",
       "4       5       9      1       7      5      10  "
      ]
     },
     "execution_count": 4,
     "metadata": {},
     "output_type": "execute_result"
    }
   ],
   "source": [
    "data.head() # display top 5 rows "
   ]
  },
  {
   "cell_type": "code",
   "execution_count": 5,
   "id": "b03bd3e9",
   "metadata": {},
   "outputs": [
    {
     "data": {
      "text/plain": [
       "(20000, 17)"
      ]
     },
     "execution_count": 5,
     "metadata": {},
     "output_type": "execute_result"
    }
   ],
   "source": [
    "data.shape  # rows, columns"
   ]
  },
  {
   "cell_type": "markdown",
   "id": "01afb242",
   "metadata": {},
   "source": [
    "samples, features: 20000 samples and 17 features"
   ]
  },
  {
   "cell_type": "code",
   "execution_count": 6,
   "id": "db8c78ad",
   "metadata": {},
   "outputs": [],
   "source": [
    "from collections import Counter\n",
    "counter = Counter(data['letter'])"
   ]
  },
  {
   "cell_type": "code",
   "execution_count": 7,
   "id": "6fca3fba",
   "metadata": {},
   "outputs": [
    {
     "data": {
      "text/plain": [
       "Counter({'T': 796,\n",
       "         'I': 755,\n",
       "         'D': 805,\n",
       "         'N': 783,\n",
       "         'G': 773,\n",
       "         'S': 748,\n",
       "         'B': 766,\n",
       "         'A': 789,\n",
       "         'J': 747,\n",
       "         'M': 792,\n",
       "         'X': 787,\n",
       "         'O': 753,\n",
       "         'R': 758,\n",
       "         'F': 775,\n",
       "         'C': 736,\n",
       "         'H': 734,\n",
       "         'W': 752,\n",
       "         'L': 761,\n",
       "         'P': 803,\n",
       "         'E': 768,\n",
       "         'V': 764,\n",
       "         'Y': 786,\n",
       "         'Q': 783,\n",
       "         'U': 813,\n",
       "         'K': 739,\n",
       "         'Z': 734})"
      ]
     },
     "execution_count": 7,
     "metadata": {},
     "output_type": "execute_result"
    }
   ],
   "source": [
    "counter   # gives classes with their count no. "
   ]
  },
  {
   "cell_type": "code",
   "execution_count": 8,
   "id": "56521f5f",
   "metadata": {},
   "outputs": [
    {
     "data": {
      "text/plain": [
       "letter    0\n",
       "xbox      0\n",
       "ybox      0\n",
       "width     0\n",
       "height    0\n",
       "onpix     0\n",
       "xbar      0\n",
       "ybar      0\n",
       "x2bar     0\n",
       "y2bar     0\n",
       "xybar     0\n",
       "x2ybar    0\n",
       "xy2bar    0\n",
       "xedge     0\n",
       "xedgey    0\n",
       "yedge     0\n",
       "yedgex    0\n",
       "dtype: int64"
      ]
     },
     "execution_count": 8,
     "metadata": {},
     "output_type": "execute_result"
    }
   ],
   "source": [
    "data.isnull().sum()  # no null value in the dataset"
   ]
  },
  {
   "cell_type": "code",
   "execution_count": 9,
   "id": "d864c282",
   "metadata": {},
   "outputs": [
    {
     "data": {
      "text/plain": [
       "letter    object\n",
       "xbox       int64\n",
       "ybox       int64\n",
       "width      int64\n",
       "height     int64\n",
       "onpix      int64\n",
       "xbar       int64\n",
       "ybar       int64\n",
       "x2bar      int64\n",
       "y2bar      int64\n",
       "xybar      int64\n",
       "x2ybar     int64\n",
       "xy2bar     int64\n",
       "xedge      int64\n",
       "xedgey     int64\n",
       "yedge      int64\n",
       "yedgex     int64\n",
       "dtype: object"
      ]
     },
     "execution_count": 9,
     "metadata": {},
     "output_type": "execute_result"
    }
   ],
   "source": [
    "data.dtypes"
   ]
  },
  {
   "cell_type": "code",
   "execution_count": 10,
   "id": "cede13e0",
   "metadata": {},
   "outputs": [
    {
     "data": {
      "text/html": [
       "<div>\n",
       "<style scoped>\n",
       "    .dataframe tbody tr th:only-of-type {\n",
       "        vertical-align: middle;\n",
       "    }\n",
       "\n",
       "    .dataframe tbody tr th {\n",
       "        vertical-align: top;\n",
       "    }\n",
       "\n",
       "    .dataframe thead th {\n",
       "        text-align: right;\n",
       "    }\n",
       "</style>\n",
       "<table border=\"1\" class=\"dataframe\">\n",
       "  <thead>\n",
       "    <tr style=\"text-align: right;\">\n",
       "      <th></th>\n",
       "      <th>letter</th>\n",
       "      <th>xbox</th>\n",
       "      <th>ybox</th>\n",
       "      <th>width</th>\n",
       "      <th>height</th>\n",
       "      <th>onpix</th>\n",
       "      <th>xbar</th>\n",
       "      <th>ybar</th>\n",
       "      <th>x2bar</th>\n",
       "      <th>y2bar</th>\n",
       "      <th>xybar</th>\n",
       "      <th>x2ybar</th>\n",
       "      <th>xy2bar</th>\n",
       "      <th>xedge</th>\n",
       "      <th>xedgey</th>\n",
       "      <th>yedge</th>\n",
       "      <th>yedgex</th>\n",
       "    </tr>\n",
       "  </thead>\n",
       "  <tbody>\n",
       "    <tr>\n",
       "      <th>627</th>\n",
       "      <td>I</td>\n",
       "      <td>3</td>\n",
       "      <td>7</td>\n",
       "      <td>4</td>\n",
       "      <td>5</td>\n",
       "      <td>2</td>\n",
       "      <td>7</td>\n",
       "      <td>7</td>\n",
       "      <td>0</td>\n",
       "      <td>7</td>\n",
       "      <td>13</td>\n",
       "      <td>6</td>\n",
       "      <td>8</td>\n",
       "      <td>0</td>\n",
       "      <td>8</td>\n",
       "      <td>1</td>\n",
       "      <td>7</td>\n",
       "    </tr>\n",
       "    <tr>\n",
       "      <th>724</th>\n",
       "      <td>L</td>\n",
       "      <td>3</td>\n",
       "      <td>6</td>\n",
       "      <td>3</td>\n",
       "      <td>4</td>\n",
       "      <td>1</td>\n",
       "      <td>1</td>\n",
       "      <td>0</td>\n",
       "      <td>6</td>\n",
       "      <td>6</td>\n",
       "      <td>0</td>\n",
       "      <td>1</td>\n",
       "      <td>5</td>\n",
       "      <td>0</td>\n",
       "      <td>8</td>\n",
       "      <td>0</td>\n",
       "      <td>8</td>\n",
       "    </tr>\n",
       "    <tr>\n",
       "      <th>730</th>\n",
       "      <td>I</td>\n",
       "      <td>1</td>\n",
       "      <td>9</td>\n",
       "      <td>0</td>\n",
       "      <td>6</td>\n",
       "      <td>0</td>\n",
       "      <td>7</td>\n",
       "      <td>7</td>\n",
       "      <td>4</td>\n",
       "      <td>4</td>\n",
       "      <td>7</td>\n",
       "      <td>6</td>\n",
       "      <td>8</td>\n",
       "      <td>0</td>\n",
       "      <td>8</td>\n",
       "      <td>0</td>\n",
       "      <td>8</td>\n",
       "    </tr>\n",
       "    <tr>\n",
       "      <th>910</th>\n",
       "      <td>X</td>\n",
       "      <td>5</td>\n",
       "      <td>11</td>\n",
       "      <td>6</td>\n",
       "      <td>8</td>\n",
       "      <td>2</td>\n",
       "      <td>7</td>\n",
       "      <td>7</td>\n",
       "      <td>5</td>\n",
       "      <td>4</td>\n",
       "      <td>7</td>\n",
       "      <td>6</td>\n",
       "      <td>8</td>\n",
       "      <td>3</td>\n",
       "      <td>8</td>\n",
       "      <td>4</td>\n",
       "      <td>8</td>\n",
       "    </tr>\n",
       "    <tr>\n",
       "      <th>943</th>\n",
       "      <td>O</td>\n",
       "      <td>2</td>\n",
       "      <td>3</td>\n",
       "      <td>2</td>\n",
       "      <td>1</td>\n",
       "      <td>1</td>\n",
       "      <td>8</td>\n",
       "      <td>7</td>\n",
       "      <td>6</td>\n",
       "      <td>4</td>\n",
       "      <td>9</td>\n",
       "      <td>6</td>\n",
       "      <td>8</td>\n",
       "      <td>2</td>\n",
       "      <td>8</td>\n",
       "      <td>3</td>\n",
       "      <td>8</td>\n",
       "    </tr>\n",
       "    <tr>\n",
       "      <th>...</th>\n",
       "      <td>...</td>\n",
       "      <td>...</td>\n",
       "      <td>...</td>\n",
       "      <td>...</td>\n",
       "      <td>...</td>\n",
       "      <td>...</td>\n",
       "      <td>...</td>\n",
       "      <td>...</td>\n",
       "      <td>...</td>\n",
       "      <td>...</td>\n",
       "      <td>...</td>\n",
       "      <td>...</td>\n",
       "      <td>...</td>\n",
       "      <td>...</td>\n",
       "      <td>...</td>\n",
       "      <td>...</td>\n",
       "      <td>...</td>\n",
       "    </tr>\n",
       "    <tr>\n",
       "      <th>19948</th>\n",
       "      <td>T</td>\n",
       "      <td>4</td>\n",
       "      <td>5</td>\n",
       "      <td>4</td>\n",
       "      <td>4</td>\n",
       "      <td>2</td>\n",
       "      <td>6</td>\n",
       "      <td>11</td>\n",
       "      <td>2</td>\n",
       "      <td>7</td>\n",
       "      <td>11</td>\n",
       "      <td>9</td>\n",
       "      <td>4</td>\n",
       "      <td>1</td>\n",
       "      <td>11</td>\n",
       "      <td>2</td>\n",
       "      <td>4</td>\n",
       "    </tr>\n",
       "    <tr>\n",
       "      <th>19950</th>\n",
       "      <td>O</td>\n",
       "      <td>4</td>\n",
       "      <td>5</td>\n",
       "      <td>5</td>\n",
       "      <td>4</td>\n",
       "      <td>3</td>\n",
       "      <td>7</td>\n",
       "      <td>7</td>\n",
       "      <td>8</td>\n",
       "      <td>5</td>\n",
       "      <td>7</td>\n",
       "      <td>6</td>\n",
       "      <td>8</td>\n",
       "      <td>2</td>\n",
       "      <td>8</td>\n",
       "      <td>3</td>\n",
       "      <td>8</td>\n",
       "    </tr>\n",
       "    <tr>\n",
       "      <th>19975</th>\n",
       "      <td>E</td>\n",
       "      <td>1</td>\n",
       "      <td>0</td>\n",
       "      <td>1</td>\n",
       "      <td>0</td>\n",
       "      <td>0</td>\n",
       "      <td>5</td>\n",
       "      <td>8</td>\n",
       "      <td>5</td>\n",
       "      <td>7</td>\n",
       "      <td>7</td>\n",
       "      <td>6</td>\n",
       "      <td>12</td>\n",
       "      <td>0</td>\n",
       "      <td>8</td>\n",
       "      <td>6</td>\n",
       "      <td>10</td>\n",
       "    </tr>\n",
       "    <tr>\n",
       "      <th>19987</th>\n",
       "      <td>L</td>\n",
       "      <td>3</td>\n",
       "      <td>7</td>\n",
       "      <td>3</td>\n",
       "      <td>5</td>\n",
       "      <td>1</td>\n",
       "      <td>0</td>\n",
       "      <td>1</td>\n",
       "      <td>6</td>\n",
       "      <td>6</td>\n",
       "      <td>0</td>\n",
       "      <td>0</td>\n",
       "      <td>6</td>\n",
       "      <td>0</td>\n",
       "      <td>8</td>\n",
       "      <td>0</td>\n",
       "      <td>8</td>\n",
       "    </tr>\n",
       "    <tr>\n",
       "      <th>19998</th>\n",
       "      <td>S</td>\n",
       "      <td>2</td>\n",
       "      <td>3</td>\n",
       "      <td>4</td>\n",
       "      <td>2</td>\n",
       "      <td>1</td>\n",
       "      <td>8</td>\n",
       "      <td>7</td>\n",
       "      <td>2</td>\n",
       "      <td>6</td>\n",
       "      <td>10</td>\n",
       "      <td>6</td>\n",
       "      <td>8</td>\n",
       "      <td>1</td>\n",
       "      <td>9</td>\n",
       "      <td>5</td>\n",
       "      <td>8</td>\n",
       "    </tr>\n",
       "  </tbody>\n",
       "</table>\n",
       "<p>1332 rows × 17 columns</p>\n",
       "</div>"
      ],
      "text/plain": [
       "      letter  xbox  ybox  width  height  onpix  xbar  ybar  x2bar  y2bar  \\\n",
       "627        I     3     7      4       5      2     7     7      0      7   \n",
       "724        L     3     6      3       4      1     1     0      6      6   \n",
       "730        I     1     9      0       6      0     7     7      4      4   \n",
       "910        X     5    11      6       8      2     7     7      5      4   \n",
       "943        O     2     3      2       1      1     8     7      6      4   \n",
       "...      ...   ...   ...    ...     ...    ...   ...   ...    ...    ...   \n",
       "19948      T     4     5      4       4      2     6    11      2      7   \n",
       "19950      O     4     5      5       4      3     7     7      8      5   \n",
       "19975      E     1     0      1       0      0     5     8      5      7   \n",
       "19987      L     3     7      3       5      1     0     1      6      6   \n",
       "19998      S     2     3      4       2      1     8     7      2      6   \n",
       "\n",
       "       xybar  x2ybar  xy2bar  xedge  xedgey  yedge  yedgex  \n",
       "627       13       6       8      0       8      1       7  \n",
       "724        0       1       5      0       8      0       8  \n",
       "730        7       6       8      0       8      0       8  \n",
       "910        7       6       8      3       8      4       8  \n",
       "943        9       6       8      2       8      3       8  \n",
       "...      ...     ...     ...    ...     ...    ...     ...  \n",
       "19948     11       9       4      1      11      2       4  \n",
       "19950      7       6       8      2       8      3       8  \n",
       "19975      7       6      12      0       8      6      10  \n",
       "19987      0       0       6      0       8      0       8  \n",
       "19998     10       6       8      1       9      5       8  \n",
       "\n",
       "[1332 rows x 17 columns]"
      ]
     },
     "execution_count": 10,
     "metadata": {},
     "output_type": "execute_result"
    }
   ],
   "source": [
    "data[data.duplicated()]  # print duplicated rows "
   ]
  },
  {
   "cell_type": "code",
   "execution_count": 11,
   "id": "581a28bd",
   "metadata": {},
   "outputs": [],
   "source": [
    "data = data.drop_duplicates()  # remove duplicated rows "
   ]
  },
  {
   "cell_type": "code",
   "execution_count": 12,
   "id": "9668637a",
   "metadata": {},
   "outputs": [
    {
     "data": {
      "text/html": [
       "<div>\n",
       "<style scoped>\n",
       "    .dataframe tbody tr th:only-of-type {\n",
       "        vertical-align: middle;\n",
       "    }\n",
       "\n",
       "    .dataframe tbody tr th {\n",
       "        vertical-align: top;\n",
       "    }\n",
       "\n",
       "    .dataframe thead th {\n",
       "        text-align: right;\n",
       "    }\n",
       "</style>\n",
       "<table border=\"1\" class=\"dataframe\">\n",
       "  <thead>\n",
       "    <tr style=\"text-align: right;\">\n",
       "      <th></th>\n",
       "      <th>letter</th>\n",
       "      <th>xbox</th>\n",
       "      <th>ybox</th>\n",
       "      <th>width</th>\n",
       "      <th>height</th>\n",
       "      <th>onpix</th>\n",
       "      <th>xbar</th>\n",
       "      <th>ybar</th>\n",
       "      <th>x2bar</th>\n",
       "      <th>y2bar</th>\n",
       "      <th>xybar</th>\n",
       "      <th>x2ybar</th>\n",
       "      <th>xy2bar</th>\n",
       "      <th>xedge</th>\n",
       "      <th>xedgey</th>\n",
       "      <th>yedge</th>\n",
       "      <th>yedgex</th>\n",
       "    </tr>\n",
       "  </thead>\n",
       "  <tbody>\n",
       "  </tbody>\n",
       "</table>\n",
       "</div>"
      ],
      "text/plain": [
       "Empty DataFrame\n",
       "Columns: [letter, xbox, ybox, width, height, onpix, xbar, ybar, x2bar, y2bar, xybar, x2ybar, xy2bar, xedge, xedgey, yedge, yedgex]\n",
       "Index: []"
      ]
     },
     "execution_count": 12,
     "metadata": {},
     "output_type": "execute_result"
    }
   ],
   "source": [
    "data[data.duplicated()]  # there is no duplicated row now"
   ]
  },
  {
   "cell_type": "code",
   "execution_count": 13,
   "id": "d8a0728a",
   "metadata": {},
   "outputs": [
    {
     "data": {
      "text/plain": [
       "(18668, 17)"
      ]
     },
     "execution_count": 13,
     "metadata": {},
     "output_type": "execute_result"
    }
   ],
   "source": [
    "data.shape"
   ]
  },
  {
   "cell_type": "markdown",
   "id": "9f6048a5",
   "metadata": {},
   "source": [
    "samples, features: 18668 samples and 17 features"
   ]
  },
  {
   "cell_type": "code",
   "execution_count": 14,
   "id": "b6b8c39b",
   "metadata": {},
   "outputs": [
    {
     "data": {
      "text/plain": [
       "Counter({'T': 748,\n",
       "         'I': 524,\n",
       "         'D': 760,\n",
       "         'N': 688,\n",
       "         'G': 743,\n",
       "         'S': 729,\n",
       "         'B': 730,\n",
       "         'A': 756,\n",
       "         'J': 715,\n",
       "         'M': 732,\n",
       "         'X': 678,\n",
       "         'O': 718,\n",
       "         'R': 737,\n",
       "         'F': 752,\n",
       "         'C': 710,\n",
       "         'H': 704,\n",
       "         'W': 726,\n",
       "         'L': 673,\n",
       "         'P': 782,\n",
       "         'E': 725,\n",
       "         'V': 706,\n",
       "         'Y': 746,\n",
       "         'Q': 760,\n",
       "         'U': 768,\n",
       "         'K': 718,\n",
       "         'Z': 640})"
      ]
     },
     "execution_count": 14,
     "metadata": {},
     "output_type": "execute_result"
    }
   ],
   "source": [
    "counter = Counter(data['letter'])\n",
    "counter   # gives classes with their count no. "
   ]
  },
  {
   "cell_type": "markdown",
   "id": "b2604c58",
   "metadata": {},
   "source": [
    "# Encode categorical variables"
   ]
  },
  {
   "cell_type": "code",
   "execution_count": 15,
   "id": "188d6824",
   "metadata": {},
   "outputs": [],
   "source": [
    "colname = ['letter']"
   ]
  },
  {
   "cell_type": "code",
   "execution_count": 16,
   "id": "fc029323",
   "metadata": {},
   "outputs": [
    {
     "name": "stdout",
     "output_type": "stream",
     "text": [
      "Feature letter\n",
      "mapping {'A': 0, 'B': 1, 'C': 2, 'D': 3, 'E': 4, 'F': 5, 'G': 6, 'H': 7, 'I': 8, 'J': 9, 'K': 10, 'L': 11, 'M': 12, 'N': 13, 'O': 14, 'P': 15, 'Q': 16, 'R': 17, 'S': 18, 'T': 19, 'U': 20, 'V': 21, 'W': 22, 'X': 23, 'Y': 24, 'Z': 25}\n"
     ]
    }
   ],
   "source": [
    "from sklearn.preprocessing import LabelEncoder  # import LabelEncoder function from sublib. preprocessing\n",
    "le = LabelEncoder()  # save this function in var. le\n",
    "for x in colname: # x is letter\n",
    "    data[x] = le.fit_transform(data[x]) # it will tranform categorical column into numeric column using LabelEncoder func\n",
    "    le_name_mapping = dict(zip(le.classes_,le.transform(le.classes_)))  # representation in dictionary format \n",
    "    print('Feature',x)\n",
    "    print('mapping', le_name_mapping)"
   ]
  },
  {
   "cell_type": "code",
   "execution_count": 17,
   "id": "4265a76f",
   "metadata": {},
   "outputs": [
    {
     "data": {
      "text/html": [
       "<div>\n",
       "<style scoped>\n",
       "    .dataframe tbody tr th:only-of-type {\n",
       "        vertical-align: middle;\n",
       "    }\n",
       "\n",
       "    .dataframe tbody tr th {\n",
       "        vertical-align: top;\n",
       "    }\n",
       "\n",
       "    .dataframe thead th {\n",
       "        text-align: right;\n",
       "    }\n",
       "</style>\n",
       "<table border=\"1\" class=\"dataframe\">\n",
       "  <thead>\n",
       "    <tr style=\"text-align: right;\">\n",
       "      <th></th>\n",
       "      <th>letter</th>\n",
       "      <th>xbox</th>\n",
       "      <th>ybox</th>\n",
       "      <th>width</th>\n",
       "      <th>height</th>\n",
       "      <th>onpix</th>\n",
       "      <th>xbar</th>\n",
       "      <th>ybar</th>\n",
       "      <th>x2bar</th>\n",
       "      <th>y2bar</th>\n",
       "      <th>xybar</th>\n",
       "      <th>x2ybar</th>\n",
       "      <th>xy2bar</th>\n",
       "      <th>xedge</th>\n",
       "      <th>xedgey</th>\n",
       "      <th>yedge</th>\n",
       "      <th>yedgex</th>\n",
       "    </tr>\n",
       "  </thead>\n",
       "  <tbody>\n",
       "    <tr>\n",
       "      <th>0</th>\n",
       "      <td>19</td>\n",
       "      <td>2</td>\n",
       "      <td>8</td>\n",
       "      <td>3</td>\n",
       "      <td>5</td>\n",
       "      <td>1</td>\n",
       "      <td>8</td>\n",
       "      <td>13</td>\n",
       "      <td>0</td>\n",
       "      <td>6</td>\n",
       "      <td>6</td>\n",
       "      <td>10</td>\n",
       "      <td>8</td>\n",
       "      <td>0</td>\n",
       "      <td>8</td>\n",
       "      <td>0</td>\n",
       "      <td>8</td>\n",
       "    </tr>\n",
       "    <tr>\n",
       "      <th>1</th>\n",
       "      <td>8</td>\n",
       "      <td>5</td>\n",
       "      <td>12</td>\n",
       "      <td>3</td>\n",
       "      <td>7</td>\n",
       "      <td>2</td>\n",
       "      <td>10</td>\n",
       "      <td>5</td>\n",
       "      <td>5</td>\n",
       "      <td>4</td>\n",
       "      <td>13</td>\n",
       "      <td>3</td>\n",
       "      <td>9</td>\n",
       "      <td>2</td>\n",
       "      <td>8</td>\n",
       "      <td>4</td>\n",
       "      <td>10</td>\n",
       "    </tr>\n",
       "    <tr>\n",
       "      <th>2</th>\n",
       "      <td>3</td>\n",
       "      <td>4</td>\n",
       "      <td>11</td>\n",
       "      <td>6</td>\n",
       "      <td>8</td>\n",
       "      <td>6</td>\n",
       "      <td>10</td>\n",
       "      <td>6</td>\n",
       "      <td>2</td>\n",
       "      <td>6</td>\n",
       "      <td>10</td>\n",
       "      <td>3</td>\n",
       "      <td>7</td>\n",
       "      <td>3</td>\n",
       "      <td>7</td>\n",
       "      <td>3</td>\n",
       "      <td>9</td>\n",
       "    </tr>\n",
       "    <tr>\n",
       "      <th>3</th>\n",
       "      <td>13</td>\n",
       "      <td>7</td>\n",
       "      <td>11</td>\n",
       "      <td>6</td>\n",
       "      <td>6</td>\n",
       "      <td>3</td>\n",
       "      <td>5</td>\n",
       "      <td>9</td>\n",
       "      <td>4</td>\n",
       "      <td>6</td>\n",
       "      <td>4</td>\n",
       "      <td>4</td>\n",
       "      <td>10</td>\n",
       "      <td>6</td>\n",
       "      <td>10</td>\n",
       "      <td>2</td>\n",
       "      <td>8</td>\n",
       "    </tr>\n",
       "    <tr>\n",
       "      <th>4</th>\n",
       "      <td>6</td>\n",
       "      <td>2</td>\n",
       "      <td>1</td>\n",
       "      <td>3</td>\n",
       "      <td>1</td>\n",
       "      <td>1</td>\n",
       "      <td>8</td>\n",
       "      <td>6</td>\n",
       "      <td>6</td>\n",
       "      <td>6</td>\n",
       "      <td>6</td>\n",
       "      <td>5</td>\n",
       "      <td>9</td>\n",
       "      <td>1</td>\n",
       "      <td>7</td>\n",
       "      <td>5</td>\n",
       "      <td>10</td>\n",
       "    </tr>\n",
       "  </tbody>\n",
       "</table>\n",
       "</div>"
      ],
      "text/plain": [
       "   letter  xbox  ybox  width  height  onpix  xbar  ybar  x2bar  y2bar  xybar  \\\n",
       "0      19     2     8      3       5      1     8    13      0      6      6   \n",
       "1       8     5    12      3       7      2    10     5      5      4     13   \n",
       "2       3     4    11      6       8      6    10     6      2      6     10   \n",
       "3      13     7    11      6       6      3     5     9      4      6      4   \n",
       "4       6     2     1      3       1      1     8     6      6      6      6   \n",
       "\n",
       "   x2ybar  xy2bar  xedge  xedgey  yedge  yedgex  \n",
       "0      10       8      0       8      0       8  \n",
       "1       3       9      2       8      4      10  \n",
       "2       3       7      3       7      3       9  \n",
       "3       4      10      6      10      2       8  \n",
       "4       5       9      1       7      5      10  "
      ]
     },
     "execution_count": 17,
     "metadata": {},
     "output_type": "execute_result"
    }
   ],
   "source": [
    "data.head()"
   ]
  },
  {
   "cell_type": "code",
   "execution_count": 18,
   "id": "32db5098",
   "metadata": {},
   "outputs": [],
   "source": [
    "data = data.to_numpy() # convert dataframe to numpy array"
   ]
  },
  {
   "cell_type": "code",
   "execution_count": 19,
   "id": "46dba9a3",
   "metadata": {},
   "outputs": [
    {
     "data": {
      "text/plain": [
       "array([[19,  2,  8, ...,  8,  0,  8],\n",
       "       [ 8,  5, 12, ...,  8,  4, 10],\n",
       "       [ 3,  4, 11, ...,  7,  3,  9],\n",
       "       ...,\n",
       "       [ 2,  7, 10, ...,  9,  3,  7],\n",
       "       [19,  6,  9, ..., 12,  2,  4],\n",
       "       [ 0,  4,  9, ...,  7,  2,  8]], dtype=int64)"
      ]
     },
     "execution_count": 19,
     "metadata": {},
     "output_type": "execute_result"
    }
   ],
   "source": [
    "data # data in the form of matrix can be directly use in tensorflow lib. "
   ]
  },
  {
   "cell_type": "code",
   "execution_count": 20,
   "id": "21b10d62",
   "metadata": {},
   "outputs": [
    {
     "data": {
      "text/plain": [
       "18668"
      ]
     },
     "execution_count": 20,
     "metadata": {},
     "output_type": "execute_result"
    }
   ],
   "source": [
    "len(data)"
   ]
  },
  {
   "cell_type": "markdown",
   "id": "965da5d7",
   "metadata": {},
   "source": [
    "# 2. Model Implementation"
   ]
  },
  {
   "cell_type": "code",
   "execution_count": 21,
   "id": "8af6ceaf",
   "metadata": {},
   "outputs": [],
   "source": [
    "# define X and Y \n",
    "X = data[:,1:]\n",
    "Y = data[:,0]"
   ]
  },
  {
   "cell_type": "code",
   "execution_count": 22,
   "id": "abacf6e1",
   "metadata": {},
   "outputs": [
    {
     "data": {
      "text/plain": [
       "array([[ 2,  8,  3, ...,  8,  0,  8],\n",
       "       [ 5, 12,  3, ...,  8,  4, 10],\n",
       "       [ 4, 11,  6, ...,  7,  3,  9],\n",
       "       ...,\n",
       "       [ 7, 10,  8, ...,  9,  3,  7],\n",
       "       [ 6,  9,  6, ..., 12,  2,  4],\n",
       "       [ 4,  9,  6, ...,  7,  2,  8]], dtype=int64)"
      ]
     },
     "execution_count": 22,
     "metadata": {},
     "output_type": "execute_result"
    }
   ],
   "source": [
    "X"
   ]
  },
  {
   "cell_type": "code",
   "execution_count": 23,
   "id": "7a27275f",
   "metadata": {},
   "outputs": [
    {
     "data": {
      "text/plain": [
       "array([19,  8,  3, ...,  2, 19,  0], dtype=int64)"
      ]
     },
     "execution_count": 23,
     "metadata": {},
     "output_type": "execute_result"
    }
   ],
   "source": [
    "Y"
   ]
  },
  {
   "cell_type": "code",
   "execution_count": 24,
   "id": "829297a2",
   "metadata": {},
   "outputs": [],
   "source": [
    "from tensorflow.keras.models import Sequential # import Sequential function from tensorflow lib. to create ANN model \n",
    "model = Sequential() # save this func in var. model"
   ]
  },
  {
   "cell_type": "code",
   "execution_count": 25,
   "id": "13c85136",
   "metadata": {},
   "outputs": [
    {
     "data": {
      "text/plain": [
       "<keras.engine.sequential.Sequential at 0x15c4252e8b0>"
      ]
     },
     "execution_count": 25,
     "metadata": {},
     "output_type": "execute_result"
    }
   ],
   "source": [
    "model"
   ]
  },
  {
   "cell_type": "code",
   "execution_count": 26,
   "id": "dbe2d672",
   "metadata": {},
   "outputs": [],
   "source": [
    "# structure of model\n",
    "# activation function add non-linearity to Neural Network \n",
    "from tensorflow.keras.layers import Dense # Dense func is used to create input, hidden and output layer\n",
    "\n",
    "model.add(Dense(20,input_dim = 16, activation = 'relu')) # create 20 input layers (each input layer has 16 neurons as we have 16 input features)\n",
    "\n",
    "model.add(Dense(10, activation= 'relu'))   # hidden layers\n",
    "model.add(Dense(10, activation= 'relu'))\n",
    "\n",
    "\n",
    "model.add(Dense(1,activation='tanh'))  # output layer (activation func tanh)"
   ]
  },
  {
   "cell_type": "code",
   "execution_count": 27,
   "id": "9b3e9f2e",
   "metadata": {},
   "outputs": [],
   "source": [
    "# once structure of our model is created, we can compile our model \n",
    "# adam is an optimizer which checks the difference between actual & predicted value (known as loss) for each row\n",
    "# average loss for one epoch is calculated by categorical_crossentropy for multi classification \n",
    "\n",
    "model.compile(loss= 'categorical_crossentropy', optimizer = 'adam', metrics= ['accuracy'])"
   ]
  },
  {
   "cell_type": "code",
   "execution_count": 28,
   "id": "99cc4d62",
   "metadata": {},
   "outputs": [
    {
     "name": "stdout",
     "output_type": "stream",
     "text": [
      "Model: \"sequential\"\n",
      "_________________________________________________________________\n",
      " Layer (type)                Output Shape              Param #   \n",
      "=================================================================\n",
      " dense (Dense)               (None, 20)                340       \n",
      "                                                                 \n",
      " dense_1 (Dense)             (None, 10)                210       \n",
      "                                                                 \n",
      " dense_2 (Dense)             (None, 10)                110       \n",
      "                                                                 \n",
      " dense_3 (Dense)             (None, 1)                 11        \n",
      "                                                                 \n",
      "=================================================================\n",
      "Total params: 671\n",
      "Trainable params: 671\n",
      "Non-trainable params: 0\n",
      "_________________________________________________________________\n"
     ]
    }
   ],
   "source": [
    "model.summary()"
   ]
  },
  {
   "cell_type": "markdown",
   "id": "d3da3b23",
   "metadata": {},
   "source": [
    "# Model Training"
   ]
  },
  {
   "cell_type": "code",
   "execution_count": 29,
   "id": "54c9081c",
   "metadata": {},
   "outputs": [],
   "source": [
    "#Splitting dataset into training and testing dataset\n",
    "from sklearn.model_selection import train_test_split\n",
    "X_train,X_test,Y_train,Y_test = train_test_split(X,Y,test_size=0.2,random_state=0)"
   ]
  },
  {
   "cell_type": "code",
   "execution_count": 30,
   "id": "1e90a9fd",
   "metadata": {},
   "outputs": [
    {
     "name": "stdout",
     "output_type": "stream",
     "text": [
      "Epoch 1/50\n",
      "467/467 [==============================] - 3s 2ms/step - loss: 1.4900e-06 - accuracy: 0.0380\n",
      "Epoch 2/50\n",
      "467/467 [==============================] - 1s 2ms/step - loss: 1.4900e-06 - accuracy: 0.0380\n",
      "Epoch 3/50\n",
      "467/467 [==============================] - 1s 2ms/step - loss: 1.4900e-06 - accuracy: 0.0380\n",
      "Epoch 4/50\n",
      "467/467 [==============================] - 1s 2ms/step - loss: 1.4900e-06 - accuracy: 0.0380\n",
      "Epoch 5/50\n",
      "467/467 [==============================] - 1s 2ms/step - loss: 1.4900e-06 - accuracy: 0.0380\n",
      "Epoch 6/50\n",
      "467/467 [==============================] - 1s 2ms/step - loss: 1.4900e-06 - accuracy: 0.0380\n",
      "Epoch 7/50\n",
      "467/467 [==============================] - 1s 2ms/step - loss: 1.4900e-06 - accuracy: 0.0380\n",
      "Epoch 8/50\n",
      "467/467 [==============================] - 1s 2ms/step - loss: 1.4900e-06 - accuracy: 0.0380\n",
      "Epoch 9/50\n",
      "467/467 [==============================] - 1s 2ms/step - loss: 1.4900e-06 - accuracy: 0.0380\n",
      "Epoch 10/50\n",
      "467/467 [==============================] - 1s 2ms/step - loss: 1.4900e-06 - accuracy: 0.0380\n",
      "Epoch 11/50\n",
      "467/467 [==============================] - 1s 2ms/step - loss: 1.4900e-06 - accuracy: 0.0380\n",
      "Epoch 12/50\n",
      "467/467 [==============================] - 1s 2ms/step - loss: 1.4900e-06 - accuracy: 0.0380\n",
      "Epoch 13/50\n",
      "467/467 [==============================] - 1s 2ms/step - loss: 1.4900e-06 - accuracy: 0.0380\n",
      "Epoch 14/50\n",
      "467/467 [==============================] - 1s 2ms/step - loss: 1.4900e-06 - accuracy: 0.0380\n",
      "Epoch 15/50\n",
      "467/467 [==============================] - 1s 2ms/step - loss: 1.4900e-06 - accuracy: 0.0380\n",
      "Epoch 16/50\n",
      "467/467 [==============================] - 1s 2ms/step - loss: 1.4900e-06 - accuracy: 0.0380\n",
      "Epoch 17/50\n",
      "467/467 [==============================] - 1s 2ms/step - loss: 1.4900e-06 - accuracy: 0.0380\n",
      "Epoch 18/50\n",
      "467/467 [==============================] - 1s 2ms/step - loss: 1.4900e-06 - accuracy: 0.0380\n",
      "Epoch 19/50\n",
      "467/467 [==============================] - 1s 2ms/step - loss: 1.4900e-06 - accuracy: 0.0380\n",
      "Epoch 20/50\n",
      "467/467 [==============================] - 1s 2ms/step - loss: 1.4900e-06 - accuracy: 0.0380\n",
      "Epoch 21/50\n",
      "467/467 [==============================] - 1s 2ms/step - loss: 1.4900e-06 - accuracy: 0.0380\n",
      "Epoch 22/50\n",
      "467/467 [==============================] - 1s 2ms/step - loss: 1.4900e-06 - accuracy: 0.0380\n",
      "Epoch 23/50\n",
      "467/467 [==============================] - 1s 2ms/step - loss: 1.4900e-06 - accuracy: 0.0380\n",
      "Epoch 24/50\n",
      "467/467 [==============================] - 1s 2ms/step - loss: 1.4900e-06 - accuracy: 0.0380\n",
      "Epoch 25/50\n",
      "467/467 [==============================] - 1s 2ms/step - loss: 1.4900e-06 - accuracy: 0.0380\n",
      "Epoch 26/50\n",
      "467/467 [==============================] - 1s 2ms/step - loss: 1.4900e-06 - accuracy: 0.0380\n",
      "Epoch 27/50\n",
      "467/467 [==============================] - 1s 2ms/step - loss: 1.4900e-06 - accuracy: 0.0380\n",
      "Epoch 28/50\n",
      "467/467 [==============================] - 1s 2ms/step - loss: 1.4900e-06 - accuracy: 0.0380\n",
      "Epoch 29/50\n",
      "467/467 [==============================] - 1s 2ms/step - loss: 1.4900e-06 - accuracy: 0.0380\n",
      "Epoch 30/50\n",
      "467/467 [==============================] - 1s 2ms/step - loss: 1.4900e-06 - accuracy: 0.0380\n",
      "Epoch 31/50\n",
      "467/467 [==============================] - 1s 2ms/step - loss: 1.4900e-06 - accuracy: 0.0380\n",
      "Epoch 32/50\n",
      "467/467 [==============================] - 1s 2ms/step - loss: 1.4900e-06 - accuracy: 0.0380\n",
      "Epoch 33/50\n",
      "467/467 [==============================] - 1s 2ms/step - loss: 1.4900e-06 - accuracy: 0.0380\n",
      "Epoch 34/50\n",
      "467/467 [==============================] - 1s 2ms/step - loss: 1.4900e-06 - accuracy: 0.0380\n",
      "Epoch 35/50\n",
      "467/467 [==============================] - 1s 2ms/step - loss: 1.4900e-06 - accuracy: 0.0380\n",
      "Epoch 36/50\n",
      "467/467 [==============================] - 1s 2ms/step - loss: 1.4900e-06 - accuracy: 0.0380\n",
      "Epoch 37/50\n",
      "467/467 [==============================] - 1s 2ms/step - loss: 1.4900e-06 - accuracy: 0.0380\n",
      "Epoch 38/50\n",
      "467/467 [==============================] - 1s 2ms/step - loss: 1.4900e-06 - accuracy: 0.0380\n",
      "Epoch 39/50\n",
      "467/467 [==============================] - 1s 2ms/step - loss: 1.4900e-06 - accuracy: 0.0380\n",
      "Epoch 40/50\n",
      "467/467 [==============================] - 1s 2ms/step - loss: 1.4900e-06 - accuracy: 0.0380\n",
      "Epoch 41/50\n",
      "467/467 [==============================] - 1s 2ms/step - loss: 1.4900e-06 - accuracy: 0.0380\n",
      "Epoch 42/50\n",
      "467/467 [==============================] - 1s 2ms/step - loss: 1.4900e-06 - accuracy: 0.0380\n",
      "Epoch 43/50\n",
      "467/467 [==============================] - 1s 2ms/step - loss: 1.4900e-06 - accuracy: 0.0380\n",
      "Epoch 44/50\n",
      "467/467 [==============================] - 1s 2ms/step - loss: 1.4900e-06 - accuracy: 0.0380\n",
      "Epoch 45/50\n",
      "467/467 [==============================] - 1s 2ms/step - loss: 1.4900e-06 - accuracy: 0.0380\n",
      "Epoch 46/50\n",
      "467/467 [==============================] - 1s 2ms/step - loss: 1.4900e-06 - accuracy: 0.0380\n",
      "Epoch 47/50\n",
      "467/467 [==============================] - 1s 2ms/step - loss: 1.4900e-06 - accuracy: 0.0380\n",
      "Epoch 48/50\n",
      "467/467 [==============================] - 1s 2ms/step - loss: 1.4900e-06 - accuracy: 0.0380\n",
      "Epoch 49/50\n",
      "467/467 [==============================] - 1s 2ms/step - loss: 1.4900e-06 - accuracy: 0.0380\n",
      "Epoch 50/50\n",
      "467/467 [==============================] - 1s 2ms/step - loss: 1.4900e-06 - accuracy: 0.0380\n"
     ]
    }
   ],
   "source": [
    "#  testing data is 20%, therefore, hyperparameter validation_split = 0.20 i.e. 18668 x 0.20 = 3733.6\n",
    "# training data = 18668 - 3733.6 = 14934.4 (80% data) \n",
    "# since batch size = 32 , so, training data = 14934.4/ 32 = 466.7\n",
    "\n",
    "history = model.fit(X_train,Y_train, epochs= 50, batch_size = 32)"
   ]
  },
  {
   "cell_type": "code",
   "execution_count": 31,
   "id": "5d88ddfc",
   "metadata": {},
   "outputs": [
    {
     "data": {
      "text/plain": [
       "<keras.callbacks.History at 0x15c4df32310>"
      ]
     },
     "execution_count": 31,
     "metadata": {},
     "output_type": "execute_result"
    }
   ],
   "source": [
    "history"
   ]
  },
  {
   "cell_type": "code",
   "execution_count": 32,
   "id": "53c1abf8",
   "metadata": {},
   "outputs": [
    {
     "name": "stdout",
     "output_type": "stream",
     "text": [
      "584/584 [==============================] - 1s 2ms/step - loss: 1.4871e-06 - accuracy: 0.0391\n"
     ]
    }
   ],
   "source": [
    "scores = model.evaluate(X,Y)"
   ]
  },
  {
   "cell_type": "code",
   "execution_count": 33,
   "id": "da586154",
   "metadata": {},
   "outputs": [
    {
     "name": "stdout",
     "output_type": "stream",
     "text": [
      "584/584 [==============================] - 1s 2ms/step - loss: 1.4871e-06 - accuracy: 0.0391\n",
      "accuracy:3.91%\n"
     ]
    }
   ],
   "source": [
    "scores = model.evaluate(X,Y)\n",
    "print(\"%s:%.2f%%\"%( model.metrics_names[1],scores[1]*100))"
   ]
  },
  {
   "cell_type": "code",
   "execution_count": 34,
   "id": "2bd1776b",
   "metadata": {},
   "outputs": [
    {
     "data": {
      "image/png": "[encoded data removed]",
      "text/plain": [
       "<Figure size 640x480 with 1 Axes>"
      ]
     },
     "metadata": {},
     "output_type": "display_data"
    }
   ],
   "source": [
    "import matplotlib.pyplot as plt\n",
    "plt.plot(history.history['accuracy']) # accuracy of model on training data\n",
    "plt.title('model accuracy')\n",
    "plt.xlabel('epoch')\n",
    "plt.ylabel('accuracy')\n",
    "plt.legend(['train'], loc = 'upper left')\n",
    "plt.show()"
   ]
  },
  {
   "cell_type": "code",
   "execution_count": 35,
   "id": "3fd36488",
   "metadata": {},
   "outputs": [
    {
     "data": {
      "image/png": "[encoded data removed]",
      "text/plain": [
       "<Figure size 640x480 with 1 Axes>"
      ]
     },
     "metadata": {},
     "output_type": "display_data"
    }
   ],
   "source": [
    "plt.plot(history.history['loss']) # training loss\n",
    "plt.title('model loss')\n",
    "plt.xlabel('epoch')\n",
    "plt.ylabel('loss')\n",
    "plt.legend(['train'], loc = 'upper left')\n",
    "plt.show()"
   ]
  },
  {
   "cell_type": "markdown",
   "id": "0b428544",
   "metadata": {},
   "source": [
    "# Predict the Test Set Results-"
   ]
  },
  {
   "cell_type": "code",
   "execution_count": 36,
   "id": "c0697a05",
   "metadata": {},
   "outputs": [
    {
     "name": "stdout",
     "output_type": "stream",
     "text": [
      "117/117 [==============================] - 0s 1ms/step\n"
     ]
    }
   ],
   "source": [
    "Y_pred = model.predict(X_test)"
   ]
  },
  {
   "cell_type": "code",
   "execution_count": 37,
   "id": "739d94cb",
   "metadata": {},
   "outputs": [
    {
     "data": {
      "text/plain": [
       "array([[1.        ],\n",
       "       [1.        ],\n",
       "       [1.        ],\n",
       "       ...,\n",
       "       [1.        ],\n",
       "       [1.        ],\n",
       "       [0.99999833]], dtype=float32)"
      ]
     },
     "execution_count": 37,
     "metadata": {},
     "output_type": "execute_result"
    }
   ],
   "source": [
    "Y_pred"
   ]
  },
  {
   "cell_type": "code",
   "execution_count": null,
   "id": "fb2c9c9f",
   "metadata": {},
   "outputs": [],
   "source": []
  }
 ],
 "metadata": {
  "kernelspec": {
   "display_name": "Python 3 (ipykernel)",
   "language": "python",
   "name": "python3"
  },
  "language_info": {
   "codemirror_mode": {
    "name": "ipython",
    "version": 3
   },
   "file_extension": ".py",
   "mimetype": "text/x-python",
   "name": "python",
   "nbconvert_exporter": "python",
   "pygments_lexer": "ipython3",
   "version": "3.9.13"
  }
 },
 "nbformat": 4,
 "nbformat_minor": 5
}
